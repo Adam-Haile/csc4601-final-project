{
 "cells": [
  {
   "cell_type": "markdown",
   "metadata": {},
   "source": [
    "# CSC 4601 - Final Project\n",
    "Adam Haile, Alec Nartatez, Dominic Zagra  \n",
    "11/21/2024"
   ]
  }
 ],
 "metadata": {
  "language_info": {
   "name": "python"
  }
 },
 "nbformat": 4,
 "nbformat_minor": 2
}
